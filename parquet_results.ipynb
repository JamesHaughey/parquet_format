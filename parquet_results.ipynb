{
 "cells": [
  {
   "cell_type": "code",
   "execution_count": 1,
   "metadata": {},
   "outputs": [],
   "source": [
    "import os\n",
    "import time\n",
    "\n",
    "import pandas as pd"
   ]
  },
  {
   "cell_type": "code",
   "execution_count": 2,
   "metadata": {},
   "outputs": [],
   "source": [
    "base_data = pd.read_parquet(\"data/volume-input_E_07-10-2019_1401.parquet.gzip\")"
   ]
  },
  {
   "cell_type": "code",
   "execution_count": 3,
   "metadata": {},
   "outputs": [
    {
     "name": "stdout",
     "output_type": "stream",
     "text": [
      "<class 'pandas.core.frame.DataFrame'>\n",
      "Int64Index: 11854682 entries, 0 to 11854681\n",
      "Data columns (total 18 columns):\n",
      "Datetime       datetime64[ns, UTC]\n",
      "FUEL           object\n",
      "Day            int64\n",
      "Month          int64\n",
      "HH             float64\n",
      "Date           datetime64[ns, UTC]\n",
      "GSP_GROUP      object\n",
      "Meter_Type     object\n",
      "Register       object\n",
      "GSP            object\n",
      "Shape          float64\n",
      "TDCV           object\n",
      "Consumption    float64\n",
      "d-loss         float64\n",
      "t-loss         float64\n",
      "CT_Volume      float64\n",
      "GSP_Volume     float64\n",
      "NBP_Volume     float64\n",
      "dtypes: datetime64[ns, UTC](2), float64(8), int64(2), object(6)\n",
      "memory usage: 1.7+ GB\n"
     ]
    }
   ],
   "source": [
    "base_data.info()"
   ]
  },
  {
   "cell_type": "code",
   "execution_count": 4,
   "metadata": {},
   "outputs": [],
   "source": [
    "no_of_runs = 5\n",
    "\n",
    "test_dict =[\n",
    "    {\n",
    "        'test': 'csv_no_compression',\n",
    "        'extension' : 'csv',\n",
    "        'compression' : None,\n",
    "    },\n",
    "    {\n",
    "        'test': 'csv_compression',\n",
    "        'extension' : 'csv.gzip',\n",
    "        'compression' : 'gzip',\n",
    "    },\n",
    "    {\n",
    "        'test': 'parquet_no_compression',\n",
    "        'extension' : 'parquet',\n",
    "        'compression' : None,\n",
    "    },\n",
    "    {\n",
    "        'test': 'parquet_compression',\n",
    "        'extension' : 'parquet.gzip',\n",
    "        'compression' : 'gzip',\n",
    "    },\n",
    "]"
   ]
  },
  {
   "cell_type": "markdown",
   "metadata": {},
   "source": [
    "### Run format tests"
   ]
  },
  {
   "cell_type": "code",
   "execution_count": 5,
   "metadata": {},
   "outputs": [
    {
     "name": "stdout",
     "output_type": "stream",
     "text": [
      "Test: csv_no_compression Run:0\n",
      "Test: csv_no_compression Run:1\n",
      "Test: csv_no_compression Run:2\n",
      "Test: csv_no_compression Run:3\n",
      "Test: csv_no_compression Run:4\n",
      "Test: csv_compression Run:0\n",
      "Test: csv_compression Run:1\n",
      "Test: csv_compression Run:2\n",
      "Test: csv_compression Run:3\n",
      "Test: csv_compression Run:4\n",
      "Test: parquet_no_compression Run:0\n",
      "Test: parquet_no_compression Run:1\n",
      "Test: parquet_no_compression Run:2\n",
      "Test: parquet_no_compression Run:3\n",
      "Test: parquet_no_compression Run:4\n",
      "Test: parquet_compressionn Run:0\n",
      "Test: parquet_compressionn Run:1\n",
      "Test: parquet_compressionn Run:2\n",
      "Test: parquet_compressionn Run:3\n",
      "Test: parquet_compressionn Run:4\n"
     ]
    }
   ],
   "source": [
    "results_list = []\n",
    "\n",
    "for test in test_dict:\n",
    "    for i in range(no_of_runs):\n",
    "        print(f'Test: {test[\"test\"]} Run:{i}')\n",
    "        file_path = f'testing/{test[\"test\"]}_{i}.{test[\"extension\"]}'\n",
    "        \n",
    "        if 'csv' in test['test']:\n",
    "            start = time.time()\n",
    "            base_data.to_csv(file_path, compression=test['compression'])\n",
    "            end = time.time()\n",
    "        else:\n",
    "            start = time.time()\n",
    "            base_data.to_parquet(file_path)\n",
    "            end = time.time()\n",
    "        write_time = end - start\n",
    "        \n",
    "        size = os.path.getsize(file_path)\n",
    "\n",
    "        if 'csv' in test['test']:\n",
    "            start = time.time()\n",
    "            df = pd.read_csv(file_path, compression=test['compression'])\n",
    "            end = time.time()\n",
    "        else:\n",
    "            start = time.time()\n",
    "            df = pd.read_parquet(file_path)\n",
    "            end = time.time()\n",
    "        end = time.time()\n",
    "        del df\n",
    "        read_time = end - start\n",
    "\n",
    "        results = {\n",
    "            'test' : test['test'],\n",
    "            'run' : i,\n",
    "            'write_time' : write_time,\n",
    "            'read_time' : read_time,\n",
    "            'file_size' : size,\n",
    "        }\n",
    "        results_list.append(results)"
   ]
  },
  {
   "cell_type": "code",
   "execution_count": 26,
   "metadata": {},
   "outputs": [],
   "source": [
    "results_frame.to_csv(\"results.csv\")\n",
    "results_frame.to_parquet(\"results.parquet\")"
   ]
  },
  {
   "cell_type": "code",
   "execution_count": 27,
   "metadata": {},
   "outputs": [],
   "source": [
    "results_frame = pd.read_parquet(\"results.parquet\")"
   ]
  },
  {
   "cell_type": "code",
   "execution_count": 28,
   "metadata": {},
   "outputs": [
    {
     "data": {
      "text/html": [
       "<style  type=\"text/css\" >\n",
       "    #T_cfd220d2_ea5e_11e9_b7d4_f894c23326a0row0_col0 {\n",
       "            : ;\n",
       "            background-color:  #cd4f39;\n",
       "        }    #T_cfd220d2_ea5e_11e9_b7d4_f894c23326a0row0_col1 {\n",
       "            : ;\n",
       "            background-color:  #cd4f39;\n",
       "        }    #T_cfd220d2_ea5e_11e9_b7d4_f894c23326a0row1_col2 {\n",
       "            : ;\n",
       "            background-color:  #cd4f39;\n",
       "        }    #T_cfd220d2_ea5e_11e9_b7d4_f894c23326a0row2_col1 {\n",
       "            background-color:  lightgreen;\n",
       "            : ;\n",
       "        }    #T_cfd220d2_ea5e_11e9_b7d4_f894c23326a0row2_col2 {\n",
       "            background-color:  lightgreen;\n",
       "            : ;\n",
       "        }    #T_cfd220d2_ea5e_11e9_b7d4_f894c23326a0row3_col0 {\n",
       "            background-color:  lightgreen;\n",
       "            : ;\n",
       "        }    #T_cfd220d2_ea5e_11e9_b7d4_f894c23326a0row3_col2 {\n",
       "            background-color:  lightgreen;\n",
       "            : ;\n",
       "        }</style><table id=\"T_cfd220d2_ea5e_11e9_b7d4_f894c23326a0\" ><thead>    <tr>        <th class=\"blank level0\" ></th>        <th class=\"col_heading level0 col0\" >write_time</th>        <th class=\"col_heading level0 col1\" >read_time</th>        <th class=\"col_heading level0 col2\" >file_size</th>    </tr>    <tr>        <th class=\"index_name level0\" >test</th>        <th class=\"blank\" ></th>        <th class=\"blank\" ></th>        <th class=\"blank\" ></th>    </tr></thead><tbody>\n",
       "                <tr>\n",
       "                        <th id=\"T_cfd220d2_ea5e_11e9_b7d4_f894c23326a0level0_row0\" class=\"row_heading level0 row0\" >csv_compression</th>\n",
       "                        <td id=\"T_cfd220d2_ea5e_11e9_b7d4_f894c23326a0row0_col0\" class=\"data row0 col0\" >443.7s</td>\n",
       "                        <td id=\"T_cfd220d2_ea5e_11e9_b7d4_f894c23326a0row0_col1\" class=\"data row0 col1\" >44.0s</td>\n",
       "                        <td id=\"T_cfd220d2_ea5e_11e9_b7d4_f894c23326a0row0_col2\" class=\"data row0 col2\" >193mb</td>\n",
       "            </tr>\n",
       "            <tr>\n",
       "                        <th id=\"T_cfd220d2_ea5e_11e9_b7d4_f894c23326a0level0_row1\" class=\"row_heading level0 row1\" >csv_no_compression</th>\n",
       "                        <td id=\"T_cfd220d2_ea5e_11e9_b7d4_f894c23326a0row1_col0\" class=\"data row1 col0\" >345.9s</td>\n",
       "                        <td id=\"T_cfd220d2_ea5e_11e9_b7d4_f894c23326a0row1_col1\" class=\"data row1 col1\" >34.0s</td>\n",
       "                        <td id=\"T_cfd220d2_ea5e_11e9_b7d4_f894c23326a0row1_col2\" class=\"data row1 col2\" >2,435mb</td>\n",
       "            </tr>\n",
       "            <tr>\n",
       "                        <th id=\"T_cfd220d2_ea5e_11e9_b7d4_f894c23326a0level0_row2\" class=\"row_heading level0 row2\" >parquet_compression</th>\n",
       "                        <td id=\"T_cfd220d2_ea5e_11e9_b7d4_f894c23326a0row2_col0\" class=\"data row2 col0\" >16.0s</td>\n",
       "                        <td id=\"T_cfd220d2_ea5e_11e9_b7d4_f894c23326a0row2_col1\" class=\"data row2 col1\" >9.0s</td>\n",
       "                        <td id=\"T_cfd220d2_ea5e_11e9_b7d4_f894c23326a0row2_col2\" class=\"data row2 col2\" >182mb</td>\n",
       "            </tr>\n",
       "            <tr>\n",
       "                        <th id=\"T_cfd220d2_ea5e_11e9_b7d4_f894c23326a0level0_row3\" class=\"row_heading level0 row3\" >parquet_no_compression</th>\n",
       "                        <td id=\"T_cfd220d2_ea5e_11e9_b7d4_f894c23326a0row3_col0\" class=\"data row3 col0\" >15.8s</td>\n",
       "                        <td id=\"T_cfd220d2_ea5e_11e9_b7d4_f894c23326a0row3_col1\" class=\"data row3 col1\" >9.2s</td>\n",
       "                        <td id=\"T_cfd220d2_ea5e_11e9_b7d4_f894c23326a0row3_col2\" class=\"data row3 col2\" >182mb</td>\n",
       "            </tr>\n",
       "    </tbody></table>"
      ],
      "text/plain": [
       "<pandas.io.formats.style.Styler at 0x1c200a03208>"
      ]
     },
     "execution_count": 28,
     "metadata": {},
     "output_type": "execute_result"
    }
   ],
   "source": [
    "format_dict = {'write_time':'{0:,.1f}s', 'read_time': '{0:,.1f}s', 'file_size': '{0:,.0f}mb'}\n",
    "\n",
    "table = (\n",
    "    results_frame.groupby('test')\n",
    "    .mean()[['write_time', 'read_time', 'file_size']]\n",
    "    .assign(file_size=lambda x: x['file_size'] / 1024 / 1024)\n",
    "    .style.format(format_dict)\n",
    "    .highlight_min(color='lightgreen')\n",
    "    .highlight_max(color='#cd4f39')\n",
    ")\n",
    "\n",
    "table"
   ]
  }
 ],
 "metadata": {
  "kernelspec": {
   "display_name": "Python 3",
   "language": "python",
   "name": "python3"
  },
  "language_info": {
   "codemirror_mode": {
    "name": "ipython",
    "version": 3
   },
   "file_extension": ".py",
   "mimetype": "text/x-python",
   "name": "python",
   "nbconvert_exporter": "python",
   "pygments_lexer": "ipython3",
   "version": "3.6.9"
  }
 },
 "nbformat": 4,
 "nbformat_minor": 4
}
